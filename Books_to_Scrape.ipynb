{
  "nbformat": 4,
  "nbformat_minor": 0,
  "metadata": {
    "colab": {
      "provenance": []
    },
    "kernelspec": {
      "name": "python3",
      "display_name": "Python 3"
    },
    "language_info": {
      "name": "python"
    }
  },
  "cells": [
    {
      "cell_type": "code",
      "execution_count": 46,
      "metadata": {
        "id": "ApHeJFMMte56"
      },
      "outputs": [],
      "source": [
        "import requests\n",
        "import pandas as pd\n",
        "from bs4 import BeautifulSoup as bs\n",
        "books = []\n",
        "for i in range(1-5):\n",
        "  url = f\"https://books.toscrape.com/catalogue/page-{i}.html\"\n",
        "  response = requests.get(url)\n",
        "  response = response.content\n",
        "  soup = bs(response, 'html.parser')\n",
        "  ol = soup.find('ol')\n",
        "  articles = ol.find_all('article', class_='product_pod')\n",
        "for article in articles:\n",
        "  image = article.find('img')\n",
        "  title = image.attrs['alt']\n",
        "  star = article.find('p')\n",
        "  star = star['class'][1]\n",
        "  price = article.find('p', class_='price_color').text\n",
        "  price = float(price[1:])\n",
        "  books.append([title, price, star])\n",
        "df = pd.DataFrame(books, columns=['Title', 'Price', 'Star Rating'])\n",
        "df.to_csv('books.csv')\n"
      ]
    },
    {
      "cell_type": "code",
      "source": [],
      "metadata": {
        "id": "qV47Wgtr7NWs"
      },
      "execution_count": null,
      "outputs": []
    }
  ]
}